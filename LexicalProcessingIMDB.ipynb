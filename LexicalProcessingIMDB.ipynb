{
  "nbformat": 4,
  "nbformat_minor": 0,
  "metadata": {
    "colab": {
      "provenance": [],
      "include_colab_link": true
    },
    "kernelspec": {
      "display_name": "Python 3",
      "language": "python",
      "name": "python3"
    },
    "language_info": {
      "codemirror_mode": {
        "name": "ipython",
        "version": 3
      },
      "file_extension": ".py",
      "mimetype": "text/x-python",
      "name": "python",
      "nbconvert_exporter": "python",
      "pygments_lexer": "ipython3",
      "version": "3.8.5"
    }
  },
  "cells": [
    {
      "cell_type": "markdown",
      "metadata": {
        "id": "view-in-github",
        "colab_type": "text"
      },
      "source": [
        "<a href=\"https://colab.research.google.com/github/Snehal-A-S/Cloud-Computing-Internship---P100/blob/main/LexicalProcessingIMDB.ipynb\" target=\"_parent\"><img src=\"https://colab.research.google.com/assets/colab-badge.svg\" alt=\"Open In Colab\"/></a>"
      ]
    },
    {
      "cell_type": "markdown",
      "metadata": {
        "id": "LZZdrYJ-xlqo"
      },
      "source": [
        "## Analysing IMDb Reviews\n",
        "\n",
        "In this code demonstration,\n",
        "- We will do some **text preprocessing steps**.\n",
        "- Then, we will create features using **Bag of Words model** and **TF-IDF model**.\n",
        "- Finally, we will build the **logistic regression model**.\n",
        "\n",
        "\n"
      ]
    },
    {
      "cell_type": "markdown",
      "metadata": {
        "id": "AbDvuxAVb-wW"
      },
      "source": [
        "![image.png](data:image/png;base64,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)"
      ]
    },
    {
      "cell_type": "markdown",
      "metadata": {
        "_uuid": "1424638f5259100af9f9a5c1b05bd23cf5b71e51",
        "id": "LonRsbKYNrGB"
      },
      "source": [
        "### Import libraries"
      ]
    },
    {
      "cell_type": "markdown",
      "metadata": {
        "id": "v5ulho010zoj"
      },
      "source": [
        "To start off, you will import the required libraries for visualising and analysing the text data.\n",
        "\n",
        "In particular, Beautiful Soup is a commonly used Python library for parsing HTML and XML files."
      ]
    },
    {
      "cell_type": "code",
      "metadata": {
        "_cell_guid": "79c7e3d0-c299-4dcb-8224-4455121ee9b0",
        "_uuid": "d629ff2d2480ee46fbb7e2d37f6b5fab8052498a",
        "id": "PS0ezMQKNrGB",
        "colab": {
          "base_uri": "https://localhost:8080/"
        },
        "outputId": "8d62aecc-9c0f-48bd-bbd3-7de8f9abbde4"
      },
      "source": [
        "#Load the libraries\n",
        "import numpy as np\n",
        "import pandas as pd\n",
        "import seaborn as sns\n",
        "import matplotlib.pyplot as plt\n",
        "import matplotlib.cm as cm\n",
        "import nltk\n",
        "from bs4 import BeautifulSoup\n",
        "import re,string\n",
        "\n",
        "import os\n",
        "import warnings\n",
        "warnings.filterwarnings('ignore')\n",
        "nltk.download('stopwords')"
      ],
      "execution_count": null,
      "outputs": [
        {
          "output_type": "stream",
          "name": "stderr",
          "text": [
            "[nltk_data] Downloading package stopwords to /root/nltk_data...\n",
            "[nltk_data]   Unzipping corpora/stopwords.zip.\n"
          ]
        },
        {
          "output_type": "execute_result",
          "data": {
            "text/plain": [
              "True"
            ]
          },
          "metadata": {},
          "execution_count": 1
        }
      ]
    },
    {
      "cell_type": "markdown",
      "metadata": {
        "_uuid": "be1b642cce343f7a8f68f8c91f7c50372cdf4381",
        "id": "ixNYJRG0NrGD"
      },
      "source": [
        "### Read input data"
      ]
    },
    {
      "cell_type": "code",
      "metadata": {
        "_uuid": "4c593c17588723c0b0b0f19851cb70a8447ced76",
        "id": "PGIjeyPBNrGD",
        "scrolled": true,
        "colab": {
          "base_uri": "https://localhost:8080/",
          "height": 397
        },
        "outputId": "5fa88f0f-ecc9-4887-fbef-7631afb113a2"
      },
      "source": [
        "#Importing the training data\n",
        "from google.colab import drive\n",
        "drive.mount('/content/drive', force_remount=True)\n",
        "\n",
        "#Import the dataset in your drive and then provide the path\n",
        "imdb=pd.read_csv('/content/drive/My Drive/IMDB.csv',nrows=10000)\n",
        "print(imdb.shape)\n",
        "imdb.head(10)"
      ],
      "execution_count": null,
      "outputs": [
        {
          "output_type": "stream",
          "name": "stdout",
          "text": [
            "Mounted at /content/drive\n",
            "(10000, 2)\n"
          ]
        },
        {
          "output_type": "execute_result",
          "data": {
            "text/plain": [
              "                                              review sentiment\n",
              "0  One of the other reviewers has mentioned that ...  positive\n",
              "1  A wonderful little production. <br /><br />The...  positive\n",
              "2  I thought this was a wonderful way to spend ti...  positive\n",
              "3  Basically there's a family where a little boy ...  negative\n",
              "4  Petter Mattei's \"Love in the Time of Money\" is...  positive\n",
              "5  Probably my all-time favorite movie, a story o...  positive\n",
              "6  I sure would like to see a resurrection of a u...  positive\n",
              "7  This show was an amazing, fresh & innovative i...  negative\n",
              "8  Encouraged by the positive comments about this...  negative\n",
              "9  If you like original gut wrenching laughter yo...  positive"
            ],
            "text/html": [
              "\n",
              "  <div id=\"df-a149c8e8-cdca-4664-89b1-556196a26797\" class=\"colab-df-container\">\n",
              "    <div>\n",
              "<style scoped>\n",
              "    .dataframe tbody tr th:only-of-type {\n",
              "        vertical-align: middle;\n",
              "    }\n",
              "\n",
              "    .dataframe tbody tr th {\n",
              "        vertical-align: top;\n",
              "    }\n",
              "\n",
              "    .dataframe thead th {\n",
              "        text-align: right;\n",
              "    }\n",
              "</style>\n",
              "<table border=\"1\" class=\"dataframe\">\n",
              "  <thead>\n",
              "    <tr style=\"text-align: right;\">\n",
              "      <th></th>\n",
              "      <th>review</th>\n",
              "      <th>sentiment</th>\n",
              "    </tr>\n",
              "  </thead>\n",
              "  <tbody>\n",
              "    <tr>\n",
              "      <th>0</th>\n",
              "      <td>One of the other reviewers has mentioned that ...</td>\n",
              "      <td>positive</td>\n",
              "    </tr>\n",
              "    <tr>\n",
              "      <th>1</th>\n",
              "      <td>A wonderful little production. &lt;br /&gt;&lt;br /&gt;The...</td>\n",
              "      <td>positive</td>\n",
              "    </tr>\n",
              "    <tr>\n",
              "      <th>2</th>\n",
              "      <td>I thought this was a wonderful way to spend ti...</td>\n",
              "      <td>positive</td>\n",
              "    </tr>\n",
              "    <tr>\n",
              "      <th>3</th>\n",
              "      <td>Basically there's a family where a little boy ...</td>\n",
              "      <td>negative</td>\n",
              "    </tr>\n",
              "    <tr>\n",
              "      <th>4</th>\n",
              "      <td>Petter Mattei's \"Love in the Time of Money\" is...</td>\n",
              "      <td>positive</td>\n",
              "    </tr>\n",
              "    <tr>\n",
              "      <th>5</th>\n",
              "      <td>Probably my all-time favorite movie, a story o...</td>\n",
              "      <td>positive</td>\n",
              "    </tr>\n",
              "    <tr>\n",
              "      <th>6</th>\n",
              "      <td>I sure would like to see a resurrection of a u...</td>\n",
              "      <td>positive</td>\n",
              "    </tr>\n",
              "    <tr>\n",
              "      <th>7</th>\n",
              "      <td>This show was an amazing, fresh &amp; innovative i...</td>\n",
              "      <td>negative</td>\n",
              "    </tr>\n",
              "    <tr>\n",
              "      <th>8</th>\n",
              "      <td>Encouraged by the positive comments about this...</td>\n",
              "      <td>negative</td>\n",
              "    </tr>\n",
              "    <tr>\n",
              "      <th>9</th>\n",
              "      <td>If you like original gut wrenching laughter yo...</td>\n",
              "      <td>positive</td>\n",
              "    </tr>\n",
              "  </tbody>\n",
              "</table>\n",
              "</div>\n",
              "    <div class=\"colab-df-buttons\">\n",
              "\n",
              "  <div class=\"colab-df-container\">\n",
              "    <button class=\"colab-df-convert\" onclick=\"convertToInteractive('df-a149c8e8-cdca-4664-89b1-556196a26797')\"\n",
              "            title=\"Convert this dataframe to an interactive table.\"\n",
              "            style=\"display:none;\">\n",
              "\n",
              "  <svg xmlns=\"http://www.w3.org/2000/svg\" height=\"24px\" viewBox=\"0 -960 960 960\">\n",
              "    <path d=\"M120-120v-720h720v720H120Zm60-500h600v-160H180v160Zm220 220h160v-160H400v160Zm0 220h160v-160H400v160ZM180-400h160v-160H180v160Zm440 0h160v-160H620v160ZM180-180h160v-160H180v160Zm440 0h160v-160H620v160Z\"/>\n",
              "  </svg>\n",
              "    </button>\n",
              "\n",
              "  <style>\n",
              "    .colab-df-container {\n",
              "      display:flex;\n",
              "      gap: 12px;\n",
              "    }\n",
              "\n",
              "    .colab-df-convert {\n",
              "      background-color: #E8F0FE;\n",
              "      border: none;\n",
              "      border-radius: 50%;\n",
              "      cursor: pointer;\n",
              "      display: none;\n",
              "      fill: #1967D2;\n",
              "      height: 32px;\n",
              "      padding: 0 0 0 0;\n",
              "      width: 32px;\n",
              "    }\n",
              "\n",
              "    .colab-df-convert:hover {\n",
              "      background-color: #E2EBFA;\n",
              "      box-shadow: 0px 1px 2px rgba(60, 64, 67, 0.3), 0px 1px 3px 1px rgba(60, 64, 67, 0.15);\n",
              "      fill: #174EA6;\n",
              "    }\n",
              "\n",
              "    .colab-df-buttons div {\n",
              "      margin-bottom: 4px;\n",
              "    }\n",
              "\n",
              "    [theme=dark] .colab-df-convert {\n",
              "      background-color: #3B4455;\n",
              "      fill: #D2E3FC;\n",
              "    }\n",
              "\n",
              "    [theme=dark] .colab-df-convert:hover {\n",
              "      background-color: #434B5C;\n",
              "      box-shadow: 0px 1px 3px 1px rgba(0, 0, 0, 0.15);\n",
              "      filter: drop-shadow(0px 1px 2px rgba(0, 0, 0, 0.3));\n",
              "      fill: #FFFFFF;\n",
              "    }\n",
              "  </style>\n",
              "\n",
              "    <script>\n",
              "      const buttonEl =\n",
              "        document.querySelector('#df-a149c8e8-cdca-4664-89b1-556196a26797 button.colab-df-convert');\n",
              "      buttonEl.style.display =\n",
              "        google.colab.kernel.accessAllowed ? 'block' : 'none';\n",
              "\n",
              "      async function convertToInteractive(key) {\n",
              "        const element = document.querySelector('#df-a149c8e8-cdca-4664-89b1-556196a26797');\n",
              "        const dataTable =\n",
              "          await google.colab.kernel.invokeFunction('convertToInteractive',\n",
              "                                                    [key], {});\n",
              "        if (!dataTable) return;\n",
              "\n",
              "        const docLinkHtml = 'Like what you see? Visit the ' +\n",
              "          '<a target=\"_blank\" href=https://colab.research.google.com/notebooks/data_table.ipynb>data table notebook</a>'\n",
              "          + ' to learn more about interactive tables.';\n",
              "        element.innerHTML = '';\n",
              "        dataTable['output_type'] = 'display_data';\n",
              "        await google.colab.output.renderOutput(dataTable, element);\n",
              "        const docLink = document.createElement('div');\n",
              "        docLink.innerHTML = docLinkHtml;\n",
              "        element.appendChild(docLink);\n",
              "      }\n",
              "    </script>\n",
              "  </div>\n",
              "\n",
              "\n",
              "<div id=\"df-fc24e740-306b-4398-82a5-9943f2c06707\">\n",
              "  <button class=\"colab-df-quickchart\" onclick=\"quickchart('df-fc24e740-306b-4398-82a5-9943f2c06707')\"\n",
              "            title=\"Suggest charts\"\n",
              "            style=\"display:none;\">\n",
              "\n",
              "<svg xmlns=\"http://www.w3.org/2000/svg\" height=\"24px\"viewBox=\"0 0 24 24\"\n",
              "     width=\"24px\">\n",
              "    <g>\n",
              "        <path d=\"M19 3H5c-1.1 0-2 .9-2 2v14c0 1.1.9 2 2 2h14c1.1 0 2-.9 2-2V5c0-1.1-.9-2-2-2zM9 17H7v-7h2v7zm4 0h-2V7h2v10zm4 0h-2v-4h2v4z\"/>\n",
              "    </g>\n",
              "</svg>\n",
              "  </button>\n",
              "\n",
              "<style>\n",
              "  .colab-df-quickchart {\n",
              "      --bg-color: #E8F0FE;\n",
              "      --fill-color: #1967D2;\n",
              "      --hover-bg-color: #E2EBFA;\n",
              "      --hover-fill-color: #174EA6;\n",
              "      --disabled-fill-color: #AAA;\n",
              "      --disabled-bg-color: #DDD;\n",
              "  }\n",
              "\n",
              "  [theme=dark] .colab-df-quickchart {\n",
              "      --bg-color: #3B4455;\n",
              "      --fill-color: #D2E3FC;\n",
              "      --hover-bg-color: #434B5C;\n",
              "      --hover-fill-color: #FFFFFF;\n",
              "      --disabled-bg-color: #3B4455;\n",
              "      --disabled-fill-color: #666;\n",
              "  }\n",
              "\n",
              "  .colab-df-quickchart {\n",
              "    background-color: var(--bg-color);\n",
              "    border: none;\n",
              "    border-radius: 50%;\n",
              "    cursor: pointer;\n",
              "    display: none;\n",
              "    fill: var(--fill-color);\n",
              "    height: 32px;\n",
              "    padding: 0;\n",
              "    width: 32px;\n",
              "  }\n",
              "\n",
              "  .colab-df-quickchart:hover {\n",
              "    background-color: var(--hover-bg-color);\n",
              "    box-shadow: 0 1px 2px rgba(60, 64, 67, 0.3), 0 1px 3px 1px rgba(60, 64, 67, 0.15);\n",
              "    fill: var(--button-hover-fill-color);\n",
              "  }\n",
              "\n",
              "  .colab-df-quickchart-complete:disabled,\n",
              "  .colab-df-quickchart-complete:disabled:hover {\n",
              "    background-color: var(--disabled-bg-color);\n",
              "    fill: var(--disabled-fill-color);\n",
              "    box-shadow: none;\n",
              "  }\n",
              "\n",
              "  .colab-df-spinner {\n",
              "    border: 2px solid var(--fill-color);\n",
              "    border-color: transparent;\n",
              "    border-bottom-color: var(--fill-color);\n",
              "    animation:\n",
              "      spin 1s steps(1) infinite;\n",
              "  }\n",
              "\n",
              "  @keyframes spin {\n",
              "    0% {\n",
              "      border-color: transparent;\n",
              "      border-bottom-color: var(--fill-color);\n",
              "      border-left-color: var(--fill-color);\n",
              "    }\n",
              "    20% {\n",
              "      border-color: transparent;\n",
              "      border-left-color: var(--fill-color);\n",
              "      border-top-color: var(--fill-color);\n",
              "    }\n",
              "    30% {\n",
              "      border-color: transparent;\n",
              "      border-left-color: var(--fill-color);\n",
              "      border-top-color: var(--fill-color);\n",
              "      border-right-color: var(--fill-color);\n",
              "    }\n",
              "    40% {\n",
              "      border-color: transparent;\n",
              "      border-right-color: var(--fill-color);\n",
              "      border-top-color: var(--fill-color);\n",
              "    }\n",
              "    60% {\n",
              "      border-color: transparent;\n",
              "      border-right-color: var(--fill-color);\n",
              "    }\n",
              "    80% {\n",
              "      border-color: transparent;\n",
              "      border-right-color: var(--fill-color);\n",
              "      border-bottom-color: var(--fill-color);\n",
              "    }\n",
              "    90% {\n",
              "      border-color: transparent;\n",
              "      border-bottom-color: var(--fill-color);\n",
              "    }\n",
              "  }\n",
              "</style>\n",
              "\n",
              "  <script>\n",
              "    async function quickchart(key) {\n",
              "      const quickchartButtonEl =\n",
              "        document.querySelector('#' + key + ' button');\n",
              "      quickchartButtonEl.disabled = true;  // To prevent multiple clicks.\n",
              "      quickchartButtonEl.classList.add('colab-df-spinner');\n",
              "      try {\n",
              "        const charts = await google.colab.kernel.invokeFunction(\n",
              "            'suggestCharts', [key], {});\n",
              "      } catch (error) {\n",
              "        console.error('Error during call to suggestCharts:', error);\n",
              "      }\n",
              "      quickchartButtonEl.classList.remove('colab-df-spinner');\n",
              "      quickchartButtonEl.classList.add('colab-df-quickchart-complete');\n",
              "    }\n",
              "    (() => {\n",
              "      let quickchartButtonEl =\n",
              "        document.querySelector('#df-fc24e740-306b-4398-82a5-9943f2c06707 button');\n",
              "      quickchartButtonEl.style.display =\n",
              "        google.colab.kernel.accessAllowed ? 'block' : 'none';\n",
              "    })();\n",
              "  </script>\n",
              "</div>\n",
              "\n",
              "    </div>\n",
              "  </div>\n"
            ],
            "application/vnd.google.colaboratory.intrinsic+json": {
              "type": "dataframe",
              "variable_name": "imdb",
              "summary": "{\n  \"name\": \"imdb\",\n  \"rows\": 10000,\n  \"fields\": [\n    {\n      \"column\": \"review\",\n      \"properties\": {\n        \"dtype\": \"string\",\n        \"num_unique_values\": 9983,\n        \"samples\": [\n          \"Good grief! While I still maintain that Manos: The Hands of Fate is the worst piece of mental torture available, Hobgoblins came awfully close. This...this...thing insults the audience at every opportunity.<br /><br />At least films like Space Mutiny and Future War can be enjoyed on mst3k, this one was a struggle to get through. I was literally writhing on the couch in anguish. This thing managed to embarrass me - alone!<br /><br />Even if you are a die-hard MST3K fan and have made it your mission to see every single experiment, think twice about seeing this one.<br /><br />It's that bad.\",\n          \"I thought \\\"Intensive Care\\\" was quite bad and very unintentionally funny. But at least not as bad as I thought it might be. Sometimes it's somewhat suspenseful, but never a good shocker.<br /><br />SPOILER AHEAD<br /><br />The fun lies in ridiculous moments. But the all-time classic moment is this: Peter (Koen Wauters) is stabbed and beaten by the killer. He lies moaning in the corner of the hallway. Amy (Nada van Nie) kneels beside him and asks \\\"Poor Peter, shall I get you a band-aid?\\\".<br /><br />This movie was shot in Dutch and English. To spare costs, all license plates are USA, and the background in the news studio is a skyline of Manhattan. Very funny if you're Dutch and watching the original version in Dutch.\",\n          \"Wonderful film that mixes documentary and fiction in a way that makes the spectator question: what is the extent of truth in documentary films or is there such a thing as an objective documentary.\"\n        ],\n        \"semantic_type\": \"\",\n        \"description\": \"\"\n      }\n    },\n    {\n      \"column\": \"sentiment\",\n      \"properties\": {\n        \"dtype\": \"category\",\n        \"num_unique_values\": 2,\n        \"samples\": [\n          \"negative\",\n          \"positive\"\n        ],\n        \"semantic_type\": \"\",\n        \"description\": \"\"\n      }\n    }\n  ]\n}"
            }
          },
          "metadata": {},
          "execution_count": 5
        }
      ]
    },
    {
      "cell_type": "markdown",
      "metadata": {
        "id": "APeSuzsN3e4Z"
      },
      "source": [
        "### Preprocessing IMDB Reviews"
      ]
    },
    {
      "cell_type": "code",
      "metadata": {
        "id": "vnE9beGD3e4a"
      },
      "source": [
        "#Collating all functions together and applying them for the 'IMDb reviews' dataset\n",
        "def strip_html(text):\n",
        "    soup = BeautifulSoup(text, \"html.parser\")\n",
        "    return soup.get_text()\n",
        "\n",
        "#Removing emojis\n",
        "def deEmojify(text):\n",
        "    regrex_pattern = re.compile(pattern = \"[\"\n",
        "        u\"\\U0001F600-\\U0001F64F\"  # emoticons\n",
        "        u\"\\U0001F300-\\U0001F5FF\"  # symbols & pictographs\n",
        "        u\"\\U0001F680-\\U0001F6FF\"  # transport & map symbols\n",
        "        u\"\\U0001F1E0-\\U0001F1FF\"  # flags (iOS)\n",
        "                           \"]+\", flags = re.UNICODE)\n",
        "    return regrex_pattern.sub(r'',text)\n",
        "\n",
        "#Text-encoding: UTF-8 encoder\n",
        "def to_unicode(text):\n",
        "    if isinstance(text, float):\n",
        "        text = str(text)\n",
        "    if isinstance(text, int):\n",
        "        text = str(text)\n",
        "    if not isinstance(text, str):\n",
        "        text = text.decode('utf-8', 'ignore')\n",
        "    return text\n",
        "\n",
        "#Removing the square brackets\n",
        "def remove_between_square_brackets(text):\n",
        "    return re.sub('\\[[^]]*\\]', '', text)\n",
        "\n",
        "\n",
        "#Define function for removing special characters\n",
        "def remove_special_characters(text, remove_digits=True):\n",
        "    pattern=r'[^a-zA-z0-9\\s]'\n",
        "    text=re.sub(pattern,'',text)\n",
        "    return text\n",
        "\n",
        "#Removing the noisy text\n",
        "def denoise_text(text):\n",
        "    text = to_unicode(text)\n",
        "    text = strip_html(text)\n",
        "    text = re.sub(r\"http\\S+\", \"\", text)\n",
        "    text = deEmojify(text)\n",
        "    text = text.encode('ascii', 'ignore')\n",
        "    text = to_unicode(text)\n",
        "    text = remove_between_square_brackets(text)\n",
        "    text = remove_special_characters(text)\n",
        "    text = text.lower()\n",
        "    return text\n"
      ],
      "execution_count": null,
      "outputs": []
    },
    {
      "cell_type": "code",
      "metadata": {
        "id": "o-0UUY3jXtD1",
        "colab": {
          "base_uri": "https://localhost:8080/",
          "height": 140
        },
        "outputId": "450f0a48-3467-47f7-c703-ca93421c7029"
      },
      "source": [
        "#Raw example of a randomly selected review\n",
        "imdb['review'][111]"
      ],
      "execution_count": null,
      "outputs": [
        {
          "output_type": "execute_result",
          "data": {
            "text/plain": [
              "\"I liked Boyle's performance, but that's about the only positive thing I can say. Everything was overdone to the point of absurdity. Most of the actors spoke like you would expect your 9-year-old nephew to speak if he were pretending to be a jaded, stone-hearted cop, or an ultra-evil villain. The raspy voice-overs seemed amateurish to me. I could go buy a cheap synthesizer and crank out better opening music. And what's with the whole 1984ish police torture stuff? It was totally superfluous and had nothing to do with the actual events of the story. Cox added a lot of things, in fact, that he apparently thought would be really cool, but had nothing to do with the story. That's a big disappointment because one of the things that makes Borges' stories so good is his minimalism -- they are tightly bound, with no superfluous details. This movie is just the opposite. I stopped watching after the scene where Lonnrot is questioning the guy from the Yidische Zaitung, or thereabouts. I wasted $4 renting this, but at least I can get some satisfaction from writing this review and hopefully saving others from making the same mistake.\""
            ],
            "application/vnd.google.colaboratory.intrinsic+json": {
              "type": "string"
            }
          },
          "metadata": {},
          "execution_count": 7
        }
      ]
    },
    {
      "cell_type": "code",
      "metadata": {
        "colab": {
          "base_uri": "https://localhost:8080/",
          "height": 241
        },
        "id": "T6Lzdn6sXrfx",
        "outputId": "9f4e2fe1-b738-4ac0-c006-cacf7e36b550"
      },
      "source": [
        "#Apply function on review column\n",
        "imdb['review']=imdb['review'].apply(denoise_text)\n",
        "\n",
        "imdb['review'].head()"
      ],
      "execution_count": null,
      "outputs": [
        {
          "output_type": "execute_result",
          "data": {
            "text/plain": [
              "0    one of the other reviewers has mentioned that ...\n",
              "1    a wonderful little production the filming tech...\n",
              "2    i thought this was a wonderful way to spend ti...\n",
              "3    basically theres a family where a little boy j...\n",
              "4    petter matteis love in the time of money is a ...\n",
              "Name: review, dtype: object"
            ],
            "text/html": [
              "<div>\n",
              "<style scoped>\n",
              "    .dataframe tbody tr th:only-of-type {\n",
              "        vertical-align: middle;\n",
              "    }\n",
              "\n",
              "    .dataframe tbody tr th {\n",
              "        vertical-align: top;\n",
              "    }\n",
              "\n",
              "    .dataframe thead th {\n",
              "        text-align: right;\n",
              "    }\n",
              "</style>\n",
              "<table border=\"1\" class=\"dataframe\">\n",
              "  <thead>\n",
              "    <tr style=\"text-align: right;\">\n",
              "      <th></th>\n",
              "      <th>review</th>\n",
              "    </tr>\n",
              "  </thead>\n",
              "  <tbody>\n",
              "    <tr>\n",
              "      <th>0</th>\n",
              "      <td>one of the other reviewers has mentioned that ...</td>\n",
              "    </tr>\n",
              "    <tr>\n",
              "      <th>1</th>\n",
              "      <td>a wonderful little production the filming tech...</td>\n",
              "    </tr>\n",
              "    <tr>\n",
              "      <th>2</th>\n",
              "      <td>i thought this was a wonderful way to spend ti...</td>\n",
              "    </tr>\n",
              "    <tr>\n",
              "      <th>3</th>\n",
              "      <td>basically theres a family where a little boy j...</td>\n",
              "    </tr>\n",
              "    <tr>\n",
              "      <th>4</th>\n",
              "      <td>petter matteis love in the time of money is a ...</td>\n",
              "    </tr>\n",
              "  </tbody>\n",
              "</table>\n",
              "</div><br><label><b>dtype:</b> object</label>"
            ]
          },
          "metadata": {},
          "execution_count": 8
        }
      ]
    },
    {
      "cell_type": "code",
      "metadata": {
        "id": "akmEnShM3e4b",
        "colab": {
          "base_uri": "https://localhost:8080/",
          "height": 140
        },
        "outputId": "1c6a78cb-25d9-4745-f52e-e7373d6d19c4"
      },
      "source": [
        "#Processed example of a randomly selected review\n",
        "imdb['review'][111]"
      ],
      "execution_count": null,
      "outputs": [
        {
          "output_type": "execute_result",
          "data": {
            "text/plain": [
              "'i liked boyles performance but thats about the only positive thing i can say everything was overdone to the point of absurdity most of the actors spoke like you would expect your 9yearold nephew to speak if he were pretending to be a jaded stonehearted cop or an ultraevil villain the raspy voiceovers seemed amateurish to me i could go buy a cheap synthesizer and crank out better opening music and whats with the whole 1984ish police torture stuff it was totally superfluous and had nothing to do with the actual events of the story cox added a lot of things in fact that he apparently thought would be really cool but had nothing to do with the story thats a big disappointment because one of the things that makes borges stories so good is his minimalism  they are tightly bound with no superfluous details this movie is just the opposite i stopped watching after the scene where lonnrot is questioning the guy from the yidische zaitung or thereabouts i wasted 4 renting this but at least i can get some satisfaction from writing this review and hopefully saving others from making the same mistake'"
            ],
            "application/vnd.google.colaboratory.intrinsic+json": {
              "type": "string"
            }
          },
          "metadata": {},
          "execution_count": 9
        }
      ]
    },
    {
      "cell_type": "markdown",
      "metadata": {
        "id": "WiOW6pvw3e4b"
      },
      "source": [
        "### Removing stopwords"
      ]
    },
    {
      "cell_type": "code",
      "metadata": {
        "id": "eauRtX4M3e4b"
      },
      "source": [
        "from nltk.corpus import stopwords\n",
        "from nltk.tokenize.toktok import ToktokTokenizer\n",
        "\n",
        "#Tokenization of text\n",
        "tokenizer=ToktokTokenizer() #for every function\n",
        "\n",
        "#Setting English stopwords\n",
        "stopword_list=nltk.corpus.stopwords.words('english')"
      ],
      "execution_count": null,
      "outputs": []
    },
    {
      "cell_type": "code",
      "metadata": {
        "id": "SokO4N-r3e4c",
        "colab": {
          "base_uri": "https://localhost:8080/"
        },
        "outputId": "cf2e7e14-2b66-4644-d0ec-7516ce21627a"
      },
      "source": [
        "from nltk.tokenize import word_tokenize,sent_tokenize\n",
        "\n",
        "#You can either remove stopwords before or after stemming. But since this is a review context, we expect users to have used many different words and we did\n",
        "# stemming before filtering for stopwords.\n",
        "\n",
        "stop=set(stopwords.words('english'))\n",
        "print(stop)\n",
        "\n",
        "#Removing the stopwords\n",
        "def remove_stopwords(text, is_lower_case=False):\n",
        "    tokens = tokenizer.tokenize(text)\n",
        "    tokens = [token.strip() for token in tokens]\n",
        "    if is_lower_case:\n",
        "        filtered_tokens = [token for token in tokens if token not in stopword_list]\n",
        "    else:\n",
        "        filtered_tokens = [token for token in tokens if token.lower() not in stopword_list]\n",
        "    filtered_text = ' '.join(filtered_tokens)\n",
        "    return filtered_text\n",
        "\n",
        "#Apply function on review column\n",
        "imdb['review']=imdb['review'].apply(remove_stopwords)"
      ],
      "execution_count": null,
      "outputs": [
        {
          "output_type": "stream",
          "name": "stdout",
          "text": [
            "{'was', 'nor', 'wouldn', 'this', 'aren', 'were', 'only', 'more', 'himself', 'their', 'needn', 'hasn', \"wouldn't\", 'me', 'there', 'some', \"don't\", \"wasn't\", 'having', 'over', 'yourselves', 'for', 'and', 'those', 'will', 'than', 'your', 'now', 'didn', 'until', 'isn', 'a', 'are', 'few', 'because', 'after', 'd', 'then', 'my', 'that', 'ourselves', 'being', 's', 'just', \"won't\", \"aren't\", 'has', \"mightn't\", \"hasn't\", 'him', 'by', 'o', 'these', 'not', 'what', \"doesn't\", \"haven't\", 'why', 'with', 'no', 'her', 'too', 'very', 'myself', 'is', 'but', 'under', 'ours', 'had', 'an', 'won', 'further', \"mustn't\", \"it's\", 'themselves', 'yours', 'doing', 'at', 'theirs', 'down', 'does', 'when', 'through', 'between', 'any', 'wasn', 'weren', 'once', 'out', \"shouldn't\", 'each', 'own', 'who', 'itself', 'so', 'before', 're', 'such', 'how', 't', 'ma', 'y', 'am', 'haven', \"couldn't\", 'be', 'did', 'into', 'they', 've', 'll', 'its', 'yourself', \"she's\", 'above', \"weren't\", 'most', 'hadn', 'mustn', 'shouldn', 'our', 'you', 'them', 'shan', 'doesn', \"you've\", 'again', 'where', \"you're\", 'his', \"should've\", 'm', 'hers', 'to', 'should', 'he', \"hadn't\", \"that'll\", \"you'll\", 'both', 'against', 'in', 'have', \"needn't\", 'if', 'been', 'do', 'while', 'she', 'herself', 'on', 'can', 'here', 'mightn', 'we', 'or', 'off', 'below', \"didn't\", 'during', 'the', 'don', 'about', \"shan't\", 'from', 'whom', 'all', 'i', 'same', 'as', 'couldn', 'ain', 'it', \"isn't\", 'which', 'up', \"you'd\", 'other', 'of'}\n"
          ]
        }
      ]
    },
    {
      "cell_type": "code",
      "metadata": {
        "id": "cJ2Wtox53e4d",
        "colab": {
          "base_uri": "https://localhost:8080/",
          "height": 140
        },
        "outputId": "7076c2c5-0f0c-4658-8ced-abd0567ac9eb"
      },
      "source": [
        "#Example of randomly selected review text\n",
        "imdb['review'][678]"
      ],
      "execution_count": null,
      "outputs": [
        {
          "output_type": "execute_result",
          "data": {
            "text/plain": [
              "'adenoid hynkel lowly soldier world war one rises subsequent years become ruthless dictator toumania creates aggressive antisemitic war machine cultivates little toothbrush moustache sound like anyone knowfrom safety hollywood chaplin uses soapbox exhort europe take arms defy hitler mussolini given united states 1940 year neutrality ahead strong desire embroil europes civil strife remember hitler declared war usa way round surprising chaplin allowed distribute immoderate polemicthe story involves one hand vulgar repellant hynkel reign terror ineptly presides life jewish ghetto every single person friendly humane brave etc etc chaplin hynkel also plays jewish barber little hero ghetto tramp name needless say chaplin writes directs stars composes music cateringin 1940 full truth yet known third reich chaplin forgiven something less perfect historical foresight even standards day gets hitler badly wrong comedian sentimentalist chaplin tries ridicule hitler making hynkel silly hapless humanise hynkel notverywarlike soldier fools around big gun upsidedown aeroplane becomes endearing rather despicable dictator inspects subordinates technical innovations dont work parachute hat bulletproof uniform etc passages meant make us think reallife nazis incompetent swept aside fact hynkels regime made cute likeable bumbling bodgeryin truth chaplins day already passed made illconsidered polemic heart still dinosaur silent screen check humour gags like staggering street semiconscious pantomime coins puddings hero schultz meant represent yardstick european decency hynkel judged schultz looks like character operetta nazi way believable schultz figure existed would say fuehrers face cause doomed failure built upon stupid ruthless persecution innocent people schultz come cellars jewish ghetto object exhaustive manhunt persist wearing ruritanian uniform chaplin yet know full horrors auschwitzbirkenau treblinka nazi concentration camp offers us hopelessly kilter grim spirit age usual chaplin thinks terms silent comedy setpieces loosely pegged onto narrative clothes line knockabout scrapping stormtroopers shaving man accompaniment brahms globe ballet watch segment filmed reversepaulette goddard unremittingly perfect hannah people ghetto impossibly nice jewish osterlich ridiculously idyllic hannah quite literally good true brave defiant resourceful hardworking course beautiful canary judaism ghetto cage gee aint cute asks barber gives makeover cute far answer doesnt come close ringing true chaplin made caricature wouldnt wonderful speech chaplin puts mouth typical author wordy emotionally cloyingjack oakie great napaloni fascist dictator bacteria brings whiff muchneeded comic brio proceedings films underlying weakness remains napaloni silly ineffective fear anyway stuttering stopstart backprojected train fine chaplinesque example gag persisted far beyond comic worthand jewish barber acquire immaculate hynkel uniform'"
            ],
            "application/vnd.google.colaboratory.intrinsic+json": {
              "type": "string"
            }
          },
          "metadata": {},
          "execution_count": 12
        }
      ]
    },
    {
      "cell_type": "markdown",
      "metadata": {
        "_uuid": "3b66eeabd5b7b8c251f8b8ddf331140a64bcd514",
        "id": "2dMoCIjINrGI"
      },
      "source": [
        "### Stemming and Lemmatization"
      ]
    },
    {
      "cell_type": "markdown",
      "metadata": {
        "id": "VXHh5h-W1yFw"
      },
      "source": [
        "Stemming is rule-based, it omits the last few letters like 'ing', 'ed', 'es' and more. It is fast but may create strange words.\n",
        "Lemmatizing is dictionary-based, where it translates all words to the root form, like 'went' to 'go', 'going' to 'go' and more.\n",
        "Generally we prefer lemmatizing, but it might take some time in large datasets."
      ]
    },
    {
      "cell_type": "code",
      "metadata": {
        "_uuid": "2295f2946e0ab74c220ad538d0e7adc04d23f697",
        "id": "XMTOlAvJNrGI",
        "colab": {
          "base_uri": "https://localhost:8080/"
        },
        "outputId": "c84f04a2-8704-4f4a-d502-d0a267b92cab"
      },
      "source": [
        "from nltk.stem import WordNetLemmatizer,SnowballStemmer\n",
        "nltk.download('wordnet')\n",
        "\n",
        "def simple_stemmer(text):\n",
        "    ps=SnowballStemmer(language='english')\n",
        "    return ' '.join([ps.stem(word) for word in tokenizer.tokenize(text)])"
      ],
      "execution_count": null,
      "outputs": [
        {
          "output_type": "stream",
          "name": "stderr",
          "text": [
            "[nltk_data] Downloading package wordnet to /root/nltk_data...\n"
          ]
        }
      ]
    },
    {
      "cell_type": "code",
      "metadata": {
        "id": "Zi_Ux2Ol5vH8",
        "colab": {
          "base_uri": "https://localhost:8080/",
          "height": 105
        },
        "outputId": "897d8636-cb4c-42c2-fae7-95d58c47b443"
      },
      "source": [
        "imdb['review'][1]"
      ],
      "execution_count": null,
      "outputs": [
        {
          "output_type": "execute_result",
          "data": {
            "text/plain": [
              "'wonderful little production filming technique unassuming oldtimebbc fashion gives comforting sometimes discomforting sense realism entire piece actors extremely well chosen michael sheen got polari voices pat truly see seamless editing guided references williams diary entries well worth watching terrificly written performed piece masterful production one great masters comedy life realism really comes home little things fantasy guard rather use traditional dream techniques remains solid disappears plays knowledge senses particularly scenes concerning orton halliwell sets particularly flat halliwells murals decorating every surface terribly well done'"
            ],
            "application/vnd.google.colaboratory.intrinsic+json": {
              "type": "string"
            }
          },
          "metadata": {},
          "execution_count": 14
        }
      ]
    },
    {
      "cell_type": "code",
      "metadata": {
        "id": "09JM5gVV5y7R",
        "colab": {
          "base_uri": "https://localhost:8080/",
          "height": 122
        },
        "outputId": "8eb46995-4fa7-43e2-9296-b3bbb7f6296d"
      },
      "source": [
        "%time simple_stemmer(imdb['review'][1])"
      ],
      "execution_count": null,
      "outputs": [
        {
          "output_type": "stream",
          "name": "stdout",
          "text": [
            "CPU times: user 1.71 ms, sys: 0 ns, total: 1.71 ms\n",
            "Wall time: 1.7 ms\n"
          ]
        },
        {
          "output_type": "execute_result",
          "data": {
            "text/plain": [
              "'wonder littl product film techniqu unassum oldtimebbc fashion give comfort sometim discomfort sens realism entir piec actor extrem well chosen michael sheen got polari voic pat truli see seamless edit guid refer william diari entri well worth watch terrif written perform piec master product one great master comedi life realism realli come home littl thing fantasi guard rather use tradit dream techniqu remain solid disappear play knowledg sens particular scene concern orton halliwel set particular flat halliwel mural decor everi surfac terribl well done'"
            ],
            "application/vnd.google.colaboratory.intrinsic+json": {
              "type": "string"
            }
          },
          "metadata": {},
          "execution_count": 15
        }
      ]
    },
    {
      "cell_type": "code",
      "metadata": {
        "id": "HH3EZZWl0OaX",
        "colab": {
          "base_uri": "https://localhost:8080/"
        },
        "outputId": "ac5dfd6a-7805-4a6a-f505-a48c872a00a4"
      },
      "source": [
        "from nltk.tag import pos_tag\n",
        "from nltk.tokenize import word_tokenize\n",
        "nltk.download('punkt')\n",
        "nltk.download('averaged_perceptron_tagger')\n",
        "\n",
        "#Lemmatizer example\n",
        "def lemmatize_all(sentence):\n",
        "    wnl = WordNetLemmatizer()\n",
        "    for word, tag in pos_tag(word_tokenize(sentence)):\n",
        "        if tag.startswith(\"NN\"):\n",
        "            yield wnl.lemmatize(word, pos='n')\n",
        "        elif tag.startswith('VB'):\n",
        "            yield wnl.lemmatize(word, pos='v')\n",
        "        elif tag.startswith('JJ'):\n",
        "            yield wnl.lemmatize(word, pos='a')\n",
        "        else:\n",
        "            yield word\n",
        "\n",
        "def lemmatize_text(text):\n",
        "    return ' '.join(lemmatize_all(text))"
      ],
      "execution_count": null,
      "outputs": [
        {
          "output_type": "stream",
          "name": "stderr",
          "text": [
            "[nltk_data] Downloading package punkt to /root/nltk_data...\n",
            "[nltk_data]   Unzipping tokenizers/punkt.zip.\n",
            "[nltk_data] Downloading package averaged_perceptron_tagger to\n",
            "[nltk_data]     /root/nltk_data...\n",
            "[nltk_data]   Unzipping taggers/averaged_perceptron_tagger.zip.\n"
          ]
        }
      ]
    },
    {
      "cell_type": "code",
      "metadata": {
        "id": "cY5gMkLA2sRQ",
        "colab": {
          "base_uri": "https://localhost:8080/",
          "height": 105
        },
        "outputId": "1a4f56ae-7d32-4b51-84bf-b9f982f8a44f"
      },
      "source": [
        "imdb['review'][1]"
      ],
      "execution_count": null,
      "outputs": [
        {
          "output_type": "execute_result",
          "data": {
            "text/plain": [
              "'wonderful little production filming technique unassuming oldtimebbc fashion gives comforting sometimes discomforting sense realism entire piece actors extremely well chosen michael sheen got polari voices pat truly see seamless editing guided references williams diary entries well worth watching terrificly written performed piece masterful production one great masters comedy life realism really comes home little things fantasy guard rather use traditional dream techniques remains solid disappears plays knowledge senses particularly scenes concerning orton halliwell sets particularly flat halliwells murals decorating every surface terribly well done'"
            ],
            "application/vnd.google.colaboratory.intrinsic+json": {
              "type": "string"
            }
          },
          "metadata": {},
          "execution_count": 17
        }
      ]
    },
    {
      "cell_type": "code",
      "source": [
        "import nltk\n",
        "nltk.download('omw-1.4')"
      ],
      "metadata": {
        "colab": {
          "base_uri": "https://localhost:8080/"
        },
        "id": "xXDOuStSNsrf",
        "outputId": "cbcd571b-a86b-418b-a3a9-b5f7dce72de8"
      },
      "execution_count": null,
      "outputs": [
        {
          "output_type": "stream",
          "name": "stderr",
          "text": [
            "[nltk_data] Downloading package omw-1.4 to /root/nltk_data...\n"
          ]
        },
        {
          "output_type": "execute_result",
          "data": {
            "text/plain": [
              "True"
            ]
          },
          "metadata": {},
          "execution_count": 18
        }
      ]
    },
    {
      "cell_type": "code",
      "metadata": {
        "id": "GgppaISg2pog",
        "colab": {
          "base_uri": "https://localhost:8080/",
          "height": 720
        },
        "outputId": "14955c73-adcf-447e-ab33-a5b777d3ae35"
      },
      "source": [
        "%time lemmatize_text(imdb['review'][1])"
      ],
      "execution_count": null,
      "outputs": [
        {
          "output_type": "error",
          "ename": "LookupError",
          "evalue": "\n**********************************************************************\n  Resource \u001b[93mpunkt_tab\u001b[0m not found.\n  Please use the NLTK Downloader to obtain the resource:\n\n  \u001b[31m>>> import nltk\n  >>> nltk.download('punkt_tab')\n  \u001b[0m\n  For more information see: https://www.nltk.org/data.html\n\n  Attempted to load \u001b[93mtokenizers/punkt_tab/english/\u001b[0m\n\n  Searched in:\n    - '/root/nltk_data'\n    - '/usr/nltk_data'\n    - '/usr/share/nltk_data'\n    - '/usr/lib/nltk_data'\n    - '/usr/share/nltk_data'\n    - '/usr/local/share/nltk_data'\n    - '/usr/lib/nltk_data'\n    - '/usr/local/lib/nltk_data'\n**********************************************************************\n",
          "traceback": [
            "\u001b[0;31m---------------------------------------------------------------------------\u001b[0m",
            "\u001b[0;31mLookupError\u001b[0m                               Traceback (most recent call last)",
            "\u001b[0;32m<timed eval>\u001b[0m in \u001b[0;36m<module>\u001b[0;34m\u001b[0m\n",
            "\u001b[0;32m<ipython-input-16-bbcf97bae712>\u001b[0m in \u001b[0;36mlemmatize_text\u001b[0;34m(text)\u001b[0m\n\u001b[1;32m     18\u001b[0m \u001b[0;34m\u001b[0m\u001b[0m\n\u001b[1;32m     19\u001b[0m \u001b[0;32mdef\u001b[0m \u001b[0mlemmatize_text\u001b[0m\u001b[0;34m(\u001b[0m\u001b[0mtext\u001b[0m\u001b[0;34m)\u001b[0m\u001b[0;34m:\u001b[0m\u001b[0;34m\u001b[0m\u001b[0;34m\u001b[0m\u001b[0m\n\u001b[0;32m---> 20\u001b[0;31m     \u001b[0;32mreturn\u001b[0m \u001b[0;34m' '\u001b[0m\u001b[0;34m.\u001b[0m\u001b[0mjoin\u001b[0m\u001b[0;34m(\u001b[0m\u001b[0mlemmatize_all\u001b[0m\u001b[0;34m(\u001b[0m\u001b[0mtext\u001b[0m\u001b[0;34m)\u001b[0m\u001b[0;34m)\u001b[0m\u001b[0;34m\u001b[0m\u001b[0;34m\u001b[0m\u001b[0m\n\u001b[0m",
            "\u001b[0;32m<ipython-input-16-bbcf97bae712>\u001b[0m in \u001b[0;36mlemmatize_all\u001b[0;34m(sentence)\u001b[0m\n\u001b[1;32m      7\u001b[0m \u001b[0;32mdef\u001b[0m \u001b[0mlemmatize_all\u001b[0m\u001b[0;34m(\u001b[0m\u001b[0msentence\u001b[0m\u001b[0;34m)\u001b[0m\u001b[0;34m:\u001b[0m\u001b[0;34m\u001b[0m\u001b[0;34m\u001b[0m\u001b[0m\n\u001b[1;32m      8\u001b[0m     \u001b[0mwnl\u001b[0m \u001b[0;34m=\u001b[0m \u001b[0mWordNetLemmatizer\u001b[0m\u001b[0;34m(\u001b[0m\u001b[0;34m)\u001b[0m\u001b[0;34m\u001b[0m\u001b[0;34m\u001b[0m\u001b[0m\n\u001b[0;32m----> 9\u001b[0;31m     \u001b[0;32mfor\u001b[0m \u001b[0mword\u001b[0m\u001b[0;34m,\u001b[0m \u001b[0mtag\u001b[0m \u001b[0;32min\u001b[0m \u001b[0mpos_tag\u001b[0m\u001b[0;34m(\u001b[0m\u001b[0mword_tokenize\u001b[0m\u001b[0;34m(\u001b[0m\u001b[0msentence\u001b[0m\u001b[0;34m)\u001b[0m\u001b[0;34m)\u001b[0m\u001b[0;34m:\u001b[0m\u001b[0;34m\u001b[0m\u001b[0;34m\u001b[0m\u001b[0m\n\u001b[0m\u001b[1;32m     10\u001b[0m         \u001b[0;32mif\u001b[0m \u001b[0mtag\u001b[0m\u001b[0;34m.\u001b[0m\u001b[0mstartswith\u001b[0m\u001b[0;34m(\u001b[0m\u001b[0;34m\"NN\"\u001b[0m\u001b[0;34m)\u001b[0m\u001b[0;34m:\u001b[0m\u001b[0;34m\u001b[0m\u001b[0;34m\u001b[0m\u001b[0m\n\u001b[1;32m     11\u001b[0m             \u001b[0;32myield\u001b[0m \u001b[0mwnl\u001b[0m\u001b[0;34m.\u001b[0m\u001b[0mlemmatize\u001b[0m\u001b[0;34m(\u001b[0m\u001b[0mword\u001b[0m\u001b[0;34m,\u001b[0m \u001b[0mpos\u001b[0m\u001b[0;34m=\u001b[0m\u001b[0;34m'n'\u001b[0m\u001b[0;34m)\u001b[0m\u001b[0;34m\u001b[0m\u001b[0;34m\u001b[0m\u001b[0m\n",
            "\u001b[0;32m/usr/local/lib/python3.10/dist-packages/nltk/tokenize/__init__.py\u001b[0m in \u001b[0;36mword_tokenize\u001b[0;34m(text, language, preserve_line)\u001b[0m\n\u001b[1;32m    140\u001b[0m     \u001b[0;34m:\u001b[0m\u001b[0mtype\u001b[0m \u001b[0mpreserve_line\u001b[0m\u001b[0;34m:\u001b[0m \u001b[0mbool\u001b[0m\u001b[0;34m\u001b[0m\u001b[0;34m\u001b[0m\u001b[0m\n\u001b[1;32m    141\u001b[0m     \"\"\"\n\u001b[0;32m--> 142\u001b[0;31m     \u001b[0msentences\u001b[0m \u001b[0;34m=\u001b[0m \u001b[0;34m[\u001b[0m\u001b[0mtext\u001b[0m\u001b[0;34m]\u001b[0m \u001b[0;32mif\u001b[0m \u001b[0mpreserve_line\u001b[0m \u001b[0;32melse\u001b[0m \u001b[0msent_tokenize\u001b[0m\u001b[0;34m(\u001b[0m\u001b[0mtext\u001b[0m\u001b[0;34m,\u001b[0m \u001b[0mlanguage\u001b[0m\u001b[0;34m)\u001b[0m\u001b[0;34m\u001b[0m\u001b[0;34m\u001b[0m\u001b[0m\n\u001b[0m\u001b[1;32m    143\u001b[0m     return [\n\u001b[1;32m    144\u001b[0m         \u001b[0mtoken\u001b[0m \u001b[0;32mfor\u001b[0m \u001b[0msent\u001b[0m \u001b[0;32min\u001b[0m \u001b[0msentences\u001b[0m \u001b[0;32mfor\u001b[0m \u001b[0mtoken\u001b[0m \u001b[0;32min\u001b[0m \u001b[0m_treebank_word_tokenizer\u001b[0m\u001b[0;34m.\u001b[0m\u001b[0mtokenize\u001b[0m\u001b[0;34m(\u001b[0m\u001b[0msent\u001b[0m\u001b[0;34m)\u001b[0m\u001b[0;34m\u001b[0m\u001b[0;34m\u001b[0m\u001b[0m\n",
            "\u001b[0;32m/usr/local/lib/python3.10/dist-packages/nltk/tokenize/__init__.py\u001b[0m in \u001b[0;36msent_tokenize\u001b[0;34m(text, language)\u001b[0m\n\u001b[1;32m    117\u001b[0m     \u001b[0;34m:\u001b[0m\u001b[0mparam\u001b[0m \u001b[0mlanguage\u001b[0m\u001b[0;34m:\u001b[0m \u001b[0mthe\u001b[0m \u001b[0mmodel\u001b[0m \u001b[0mname\u001b[0m \u001b[0;32min\u001b[0m \u001b[0mthe\u001b[0m \u001b[0mPunkt\u001b[0m \u001b[0mcorpus\u001b[0m\u001b[0;34m\u001b[0m\u001b[0;34m\u001b[0m\u001b[0m\n\u001b[1;32m    118\u001b[0m     \"\"\"\n\u001b[0;32m--> 119\u001b[0;31m     \u001b[0mtokenizer\u001b[0m \u001b[0;34m=\u001b[0m \u001b[0m_get_punkt_tokenizer\u001b[0m\u001b[0;34m(\u001b[0m\u001b[0mlanguage\u001b[0m\u001b[0;34m)\u001b[0m\u001b[0;34m\u001b[0m\u001b[0;34m\u001b[0m\u001b[0m\n\u001b[0m\u001b[1;32m    120\u001b[0m     \u001b[0;32mreturn\u001b[0m \u001b[0mtokenizer\u001b[0m\u001b[0;34m.\u001b[0m\u001b[0mtokenize\u001b[0m\u001b[0;34m(\u001b[0m\u001b[0mtext\u001b[0m\u001b[0;34m)\u001b[0m\u001b[0;34m\u001b[0m\u001b[0;34m\u001b[0m\u001b[0m\n\u001b[1;32m    121\u001b[0m \u001b[0;34m\u001b[0m\u001b[0m\n",
            "\u001b[0;32m/usr/local/lib/python3.10/dist-packages/nltk/tokenize/__init__.py\u001b[0m in \u001b[0;36m_get_punkt_tokenizer\u001b[0;34m(language)\u001b[0m\n\u001b[1;32m    103\u001b[0m     \u001b[0;34m:\u001b[0m\u001b[0mtype\u001b[0m \u001b[0mlanguage\u001b[0m\u001b[0;34m:\u001b[0m \u001b[0mstr\u001b[0m\u001b[0;34m\u001b[0m\u001b[0;34m\u001b[0m\u001b[0m\n\u001b[1;32m    104\u001b[0m     \"\"\"\n\u001b[0;32m--> 105\u001b[0;31m     \u001b[0;32mreturn\u001b[0m \u001b[0mPunktTokenizer\u001b[0m\u001b[0;34m(\u001b[0m\u001b[0mlanguage\u001b[0m\u001b[0;34m)\u001b[0m\u001b[0;34m\u001b[0m\u001b[0;34m\u001b[0m\u001b[0m\n\u001b[0m\u001b[1;32m    106\u001b[0m \u001b[0;34m\u001b[0m\u001b[0m\n\u001b[1;32m    107\u001b[0m \u001b[0;34m\u001b[0m\u001b[0m\n",
            "\u001b[0;32m/usr/local/lib/python3.10/dist-packages/nltk/tokenize/punkt.py\u001b[0m in \u001b[0;36m__init__\u001b[0;34m(self, lang)\u001b[0m\n\u001b[1;32m   1742\u001b[0m     \u001b[0;32mdef\u001b[0m \u001b[0m__init__\u001b[0m\u001b[0;34m(\u001b[0m\u001b[0mself\u001b[0m\u001b[0;34m,\u001b[0m \u001b[0mlang\u001b[0m\u001b[0;34m=\u001b[0m\u001b[0;34m\"english\"\u001b[0m\u001b[0;34m)\u001b[0m\u001b[0;34m:\u001b[0m\u001b[0;34m\u001b[0m\u001b[0;34m\u001b[0m\u001b[0m\n\u001b[1;32m   1743\u001b[0m         \u001b[0mPunktSentenceTokenizer\u001b[0m\u001b[0;34m.\u001b[0m\u001b[0m__init__\u001b[0m\u001b[0;34m(\u001b[0m\u001b[0mself\u001b[0m\u001b[0;34m)\u001b[0m\u001b[0;34m\u001b[0m\u001b[0;34m\u001b[0m\u001b[0m\n\u001b[0;32m-> 1744\u001b[0;31m         \u001b[0mself\u001b[0m\u001b[0;34m.\u001b[0m\u001b[0mload_lang\u001b[0m\u001b[0;34m(\u001b[0m\u001b[0mlang\u001b[0m\u001b[0;34m)\u001b[0m\u001b[0;34m\u001b[0m\u001b[0;34m\u001b[0m\u001b[0m\n\u001b[0m\u001b[1;32m   1745\u001b[0m \u001b[0;34m\u001b[0m\u001b[0m\n\u001b[1;32m   1746\u001b[0m     \u001b[0;32mdef\u001b[0m \u001b[0mload_lang\u001b[0m\u001b[0;34m(\u001b[0m\u001b[0mself\u001b[0m\u001b[0;34m,\u001b[0m \u001b[0mlang\u001b[0m\u001b[0;34m=\u001b[0m\u001b[0;34m\"english\"\u001b[0m\u001b[0;34m)\u001b[0m\u001b[0;34m:\u001b[0m\u001b[0;34m\u001b[0m\u001b[0;34m\u001b[0m\u001b[0m\n",
            "\u001b[0;32m/usr/local/lib/python3.10/dist-packages/nltk/tokenize/punkt.py\u001b[0m in \u001b[0;36mload_lang\u001b[0;34m(self, lang)\u001b[0m\n\u001b[1;32m   1747\u001b[0m         \u001b[0;32mfrom\u001b[0m \u001b[0mnltk\u001b[0m\u001b[0;34m.\u001b[0m\u001b[0mdata\u001b[0m \u001b[0;32mimport\u001b[0m \u001b[0mfind\u001b[0m\u001b[0;34m\u001b[0m\u001b[0;34m\u001b[0m\u001b[0m\n\u001b[1;32m   1748\u001b[0m \u001b[0;34m\u001b[0m\u001b[0m\n\u001b[0;32m-> 1749\u001b[0;31m         \u001b[0mlang_dir\u001b[0m \u001b[0;34m=\u001b[0m \u001b[0mfind\u001b[0m\u001b[0;34m(\u001b[0m\u001b[0;34mf\"tokenizers/punkt_tab/{lang}/\"\u001b[0m\u001b[0;34m)\u001b[0m\u001b[0;34m\u001b[0m\u001b[0;34m\u001b[0m\u001b[0m\n\u001b[0m\u001b[1;32m   1750\u001b[0m         \u001b[0mself\u001b[0m\u001b[0;34m.\u001b[0m\u001b[0m_params\u001b[0m \u001b[0;34m=\u001b[0m \u001b[0mload_punkt_params\u001b[0m\u001b[0;34m(\u001b[0m\u001b[0mlang_dir\u001b[0m\u001b[0;34m)\u001b[0m\u001b[0;34m\u001b[0m\u001b[0;34m\u001b[0m\u001b[0m\n\u001b[1;32m   1751\u001b[0m         \u001b[0mself\u001b[0m\u001b[0;34m.\u001b[0m\u001b[0m_lang\u001b[0m \u001b[0;34m=\u001b[0m \u001b[0mlang\u001b[0m\u001b[0;34m\u001b[0m\u001b[0;34m\u001b[0m\u001b[0m\n",
            "\u001b[0;32m/usr/local/lib/python3.10/dist-packages/nltk/data.py\u001b[0m in \u001b[0;36mfind\u001b[0;34m(resource_name, paths)\u001b[0m\n\u001b[1;32m    577\u001b[0m     \u001b[0msep\u001b[0m \u001b[0;34m=\u001b[0m \u001b[0;34m\"*\"\u001b[0m \u001b[0;34m*\u001b[0m \u001b[0;36m70\u001b[0m\u001b[0;34m\u001b[0m\u001b[0;34m\u001b[0m\u001b[0m\n\u001b[1;32m    578\u001b[0m     \u001b[0mresource_not_found\u001b[0m \u001b[0;34m=\u001b[0m \u001b[0;34mf\"\\n{sep}\\n{msg}\\n{sep}\\n\"\u001b[0m\u001b[0;34m\u001b[0m\u001b[0;34m\u001b[0m\u001b[0m\n\u001b[0;32m--> 579\u001b[0;31m     \u001b[0;32mraise\u001b[0m \u001b[0mLookupError\u001b[0m\u001b[0;34m(\u001b[0m\u001b[0mresource_not_found\u001b[0m\u001b[0;34m)\u001b[0m\u001b[0;34m\u001b[0m\u001b[0;34m\u001b[0m\u001b[0m\n\u001b[0m\u001b[1;32m    580\u001b[0m \u001b[0;34m\u001b[0m\u001b[0m\n\u001b[1;32m    581\u001b[0m \u001b[0;34m\u001b[0m\u001b[0m\n",
            "\u001b[0;31mLookupError\u001b[0m: \n**********************************************************************\n  Resource \u001b[93mpunkt_tab\u001b[0m not found.\n  Please use the NLTK Downloader to obtain the resource:\n\n  \u001b[31m>>> import nltk\n  >>> nltk.download('punkt_tab')\n  \u001b[0m\n  For more information see: https://www.nltk.org/data.html\n\n  Attempted to load \u001b[93mtokenizers/punkt_tab/english/\u001b[0m\n\n  Searched in:\n    - '/root/nltk_data'\n    - '/usr/nltk_data'\n    - '/usr/share/nltk_data'\n    - '/usr/lib/nltk_data'\n    - '/usr/share/nltk_data'\n    - '/usr/local/share/nltk_data'\n    - '/usr/lib/nltk_data'\n    - '/usr/local/lib/nltk_data'\n**********************************************************************\n"
          ]
        }
      ]
    },
    {
      "cell_type": "code",
      "metadata": {
        "id": "o0t_bTcG3e4g"
      },
      "source": [
        "imdb['review'] = imdb['review'].apply(simple_stemmer)"
      ],
      "execution_count": null,
      "outputs": []
    },
    {
      "cell_type": "code",
      "metadata": {
        "id": "9joxeClO3e4g",
        "colab": {
          "base_uri": "https://localhost:8080/",
          "height": 140
        },
        "outputId": "316c07be-2ea4-4d71-a061-d25b1de5219a"
      },
      "source": [
        "#Example of randomly selected review text\n",
        "imdb['review'][456]"
      ],
      "execution_count": null,
      "outputs": [
        {
          "output_type": "execute_result",
          "data": {
            "text/plain": [
              "'oh good would never thought possibl see thriller wors domest disturb soon arm rotten plot terribl edit stilt act headacheinduc style sorri word sanctimoni kind movi almost forc reevalu entir genr film bad even thriller condemn complet failur seem littl betternow sanctimoni terribl film also succeed difficult task rip better movi pathet job right main titl noth blatant attempt reproduc one se7en impress someth didnt smell quit right soon movi start seri corni wannab hip quickcut full gori imag bombast color knew smell come fromit turn two policemen rather policeman jim renart michael par policewoman dorothi smith jennif rubin investig murder spree vancouv serial killer known monkey killer menac chill nicknam uh work method kill quit lot peopl see nut appar work follow proverb see evil hear evil speak evil cut eye ear tongu victim far six eye six ear three tongu ingeni fashion renart smith figur monkey killer probabl go kill three peopl well probabl want complet number 666 sudden film focus tom gerrick casper van dien young success goodlook businessman dread temper that ripoff american psycho kick inso follow life two polic offic young psychopath none interest least final meet along way disco renart bare miss gerrick unintent offer us one funniest scene recent memori renart goe back disco club well script tell us suspect place one singl punch stomach renard get rid big guard block path guard never heard scene strike anyon els complet unrealisticanyway anoth murder gerrick turn wit smith especi renart immedi suspect might killer typic basic instinct fashion smith get date young businessman assumpt might discov true identityi wont spoil end quit simpli embarrass contradict plot hole issu never get resolv especi one last scene brutal mass murder suppos shock sad come laughabl overdon nonsens frank cant imagin anyon could laugh itat 87 minut sanctimoni realli push never care one singl charact flat mention bore know exact first time meet never pull stori scene connect weak plot devic downright unnecessari place act rang averag van dien downright atroci rubin support cast music abysm generic techno photographi one worst ever seen cours like everi fiasco genr provid littl bit gratuit nudity310'"
            ],
            "application/vnd.google.colaboratory.intrinsic+json": {
              "type": "string"
            }
          },
          "metadata": {},
          "execution_count": 22
        }
      ]
    },
    {
      "cell_type": "markdown",
      "metadata": {
        "id": "_6SZ7Ew-3e4k"
      },
      "source": [
        "## Creating features using **Bag of words** model and building the Logistic Regression model"
      ]
    },
    {
      "cell_type": "code",
      "metadata": {
        "id": "WRdQ3eqBtS75"
      },
      "source": [
        "#Transformed train reviews\n",
        "norm_reviews=imdb.review"
      ],
      "execution_count": null,
      "outputs": []
    },
    {
      "cell_type": "markdown",
      "metadata": {
        "id": "tS4elUe5tVyJ"
      },
      "source": [
        "### Binarisation of Sentiments: Positive: 1, Negative: 0"
      ]
    },
    {
      "cell_type": "code",
      "metadata": {
        "id": "aSb4OyBW3e4i",
        "colab": {
          "base_uri": "https://localhost:8080/"
        },
        "outputId": "50d0b9d9-79ef-4394-dd03-bd9c7509c6a2"
      },
      "source": [
        "from sklearn.preprocessing import LabelBinarizer\n",
        "\n",
        "#Labelling the sentient data\n",
        "lb=LabelBinarizer()\n",
        "\n",
        "#Transformed sentiment data\n",
        "sentiment_data=lb.fit_transform(imdb['sentiment'])\n",
        "print(sentiment_data.shape)"
      ],
      "execution_count": null,
      "outputs": [
        {
          "output_type": "stream",
          "name": "stdout",
          "text": [
            "(10000, 1)\n"
          ]
        }
      ]
    },
    {
      "cell_type": "markdown",
      "metadata": {
        "id": "yarYBMiL3e4h"
      },
      "source": [
        "### Fitting the bag of words model on the entire dataset"
      ]
    },
    {
      "cell_type": "code",
      "metadata": {
        "id": "oDfBPWj3pD86"
      },
      "source": [
        "from sklearn.feature_extraction.text import CountVectorizer\n",
        "\n",
        "#Creating a matrix with reviews in row and unique words as columns and frequency of word in review as values.\n",
        "#Count vectorizer for bag of words\n",
        "cv=CountVectorizer()\n",
        "\n",
        "#Fitting model on entire data\n",
        "cv_fit = cv.fit(norm_reviews)"
      ],
      "execution_count": null,
      "outputs": []
    },
    {
      "cell_type": "markdown",
      "metadata": {
        "id": "gi8rG9LUtnW7"
      },
      "source": [
        "### Transform the train and the test dataset separately"
      ]
    },
    {
      "cell_type": "markdown",
      "metadata": {
        "id": "OrcJikEem93g"
      },
      "source": [
        "![image.png](data:image/png;base64,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)"
      ]
    },
    {
      "cell_type": "code",
      "metadata": {
        "id": "pJ0IBJ3IprCn",
        "colab": {
          "base_uri": "https://localhost:8080/"
        },
        "outputId": "0974ea90-5675-49ee-a80d-4841a247a99c"
      },
      "source": [
        "#Normalised train reviews\n",
        "norm_train_reviews=imdb.review[:8000]\n",
        "print('train:','\\n',norm_train_reviews[0])\n",
        "norm_train_cv_reviews=cv_fit.transform(norm_train_reviews)\n",
        "\n",
        "#Normalised test reviews\n",
        "norm_test_reviews=imdb.review[8000:]\n",
        "print('test:','\\n',norm_test_reviews[8001])\n",
        "norm_test_cv_reviews=cv_fit.transform(norm_test_reviews)"
      ],
      "execution_count": null,
      "outputs": [
        {
          "output_type": "stream",
          "name": "stdout",
          "text": [
            "train: \n",
            " one review mention watch 1 oz episod youll hook right exact happen meth first thing struck oz brutal unflinch scene violenc set right word go trust show faint heart timid show pull punch regard drug sex violenc hardcor classic use wordit call oz nicknam given oswald maximum secur state penitentari focus main emerald citi experiment section prison cell glass front face inward privaci high agenda em citi home manyaryan muslim gangsta latino christian italian irish moreso scuffl death stare dodgi deal shadi agreement never far awayi would say main appeal show due fact goe show wouldnt dare forget pretti pictur paint mainstream audienc forget charm forget romanceoz doesnt mess around first episod ever saw struck nasti surreal couldnt say readi watch develop tast oz got accustom high level graphic violenc violenc injustic crook guard wholl sold nickel inmat wholl kill order get away well manner middl class inmat turn prison bitch due lack street skill prison experi watch oz may becom comfort uncomfort viewingthat get touch darker side\n",
            "test: \n",
            " go twin effect look pure hong kong movi experi disappoint say bad tradit hong kong action movi run similar vein shaolin soccer kung fu hustl resolut silli juvenil want good bit serious hong kong action look john woo yuen woo ping movi movi got lot flak silli thought first thing would explain your get disappoint lot puristsfor nonpurist forgiv tast though twin effect delight silli kungfu comedi like lot varieti reason least wonder femal lead spark thorough entertain comedi doubl act believ first movi type theyv hop kick fli like season prosth patent ridicul plot handl great deal care attent movi quit know written make lot movi laugh loud comedi realli promin thing subtl gentl comedi reliant word inanim object go fli la stephen chow said slapstick immens fun sequenc discodanc vampir total classicth action blend two genr realli fall period drama wireandsword fight come toward end comedi fight style jacki chan come blend though littl deriv time alway excit watch occasion throw genuin innov encountersal great movi tremend fun way despit stick point instanc twin effect mani way much westernis kungfu fan perhap use inevit comparison blade seri definit sound exampl though twin effect honest much better blade ever manag especi fight action person also bit shame see excel anthoni wong hissabl villain john woo classic hard boil underus younger audienc aim unlik notic inde know hard boil movi realli person gripeif watch open mind youll probabl enjoy great like must firm awar comedi ball wall kungfu movi keep mind youll fine\n"
          ]
        }
      ]
    },
    {
      "cell_type": "markdown",
      "metadata": {
        "id": "K9sYgNOPtttL"
      },
      "source": [
        "### Splitting the output variable (sentiments) into test and train"
      ]
    },
    {
      "cell_type": "code",
      "metadata": {
        "id": "vz5y0691pndh"
      },
      "source": [
        "#Splitting the sentiment data\n",
        "train_sentiments=sentiment_data[:8000]\n",
        "test_sentiments=sentiment_data[8000:]"
      ],
      "execution_count": null,
      "outputs": []
    },
    {
      "cell_type": "code",
      "metadata": {
        "id": "yFJThH7TqBaC",
        "colab": {
          "base_uri": "https://localhost:8080/"
        },
        "outputId": "bdc77991-eff0-4f13-e399-7bab8e5c58b6"
      },
      "source": [
        "#Calculating sentiment count\n",
        "imdb['sentiment'].value_counts()"
      ],
      "execution_count": null,
      "outputs": [
        {
          "output_type": "execute_result",
          "data": {
            "text/plain": [
              "positive    5028\n",
              "negative    4972\n",
              "Name: sentiment, dtype: int64"
            ]
          },
          "metadata": {},
          "execution_count": 24
        }
      ]
    },
    {
      "cell_type": "markdown",
      "metadata": {
        "id": "P86pEIB9qv09"
      },
      "source": [
        "###Model building using Bag of words model- Logistic Regression"
      ]
    },
    {
      "cell_type": "code",
      "metadata": {
        "id": "0aoGTYjBplsc",
        "colab": {
          "base_uri": "https://localhost:8080/"
        },
        "outputId": "560c35a1-3bb4-4a54-bf3c-311373872f39"
      },
      "source": [
        "from sklearn.linear_model import LogisticRegression,SGDClassifier\n",
        "\n",
        "#Training the model\n",
        "lr=LogisticRegression(penalty='l2',max_iter=500,C=1,random_state=42)\n",
        "\n",
        "#Fitting the model for the bag of words\n",
        "lr_bow=lr.fit(norm_train_cv_reviews,train_sentiments)\n",
        "print(lr_bow)"
      ],
      "execution_count": null,
      "outputs": [
        {
          "output_type": "stream",
          "name": "stdout",
          "text": [
            "LogisticRegression(C=1, max_iter=500, random_state=42)\n"
          ]
        }
      ]
    },
    {
      "cell_type": "markdown",
      "metadata": {
        "id": "38DjJbR_t-Ku"
      },
      "source": [
        "### Predictions"
      ]
    },
    {
      "cell_type": "code",
      "metadata": {
        "id": "mJs2afjbrK9n",
        "colab": {
          "base_uri": "https://localhost:8080/"
        },
        "outputId": "894f0028-d037-4848-d24c-f5d991a5054c"
      },
      "source": [
        "#Predicting the model for bag of words\n",
        "lr_bow_predict=lr.predict(norm_test_cv_reviews)\n",
        "print(lr_bow_predict)"
      ],
      "execution_count": null,
      "outputs": [
        {
          "output_type": "stream",
          "name": "stdout",
          "text": [
            "[1 1 1 ... 0 0 1]\n"
          ]
        }
      ]
    },
    {
      "cell_type": "markdown",
      "metadata": {
        "id": "mM1IU4yU3e4j"
      },
      "source": [
        "## Creating features using **TF-IDF** model and building the Logistic Regression model"
      ]
    },
    {
      "cell_type": "code",
      "metadata": {
        "id": "-swNUHEvuh5-"
      },
      "source": [
        "#Transformed train reviews\n",
        "norm_reviews=imdb.review"
      ],
      "execution_count": null,
      "outputs": []
    },
    {
      "cell_type": "markdown",
      "metadata": {
        "id": "zbM6pPjwui2-"
      },
      "source": [
        "### Fitting TF-IDF model on entire dataset."
      ]
    },
    {
      "cell_type": "code",
      "metadata": {
        "id": "An6_9X4m3e4j"
      },
      "source": [
        "#Term-frequencey * inverse document frequency matrix\n",
        "from sklearn.feature_extraction.text import TfidfVectorizer\n",
        "\n",
        "#Applying TF-IDF vectorizer\n",
        "tv=TfidfVectorizer()\n",
        "\n",
        "#Fitting model on entire data\n",
        "tv_fit = tv.fit(norm_reviews)"
      ],
      "execution_count": null,
      "outputs": []
    },
    {
      "cell_type": "markdown",
      "metadata": {
        "id": "i-KCchtpuqx5"
      },
      "source": [
        "### Transform the train and the test dataset separately"
      ]
    },
    {
      "cell_type": "markdown",
      "metadata": {
        "id": "NrEy1AGkmVQD"
      },
      "source": [
        "![image.png](data:image/png;base64,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)"
      ]
    },
    {
      "cell_type": "code",
      "metadata": {
        "id": "JUCp98MQqOCt",
        "colab": {
          "base_uri": "https://localhost:8080/"
        },
        "outputId": "0c1dcf04-38b5-4685-83aa-e4f21d84b67c"
      },
      "source": [
        "#Normalised train reviews\n",
        "norm_train_reviews=imdb.review[:8000]\n",
        "print('train:','\\n',norm_train_reviews[0])\n",
        "norm_train_tv_reviews=tv_fit.transform(norm_train_reviews)\n",
        "\n",
        "#Normalised test reviews\n",
        "norm_test_reviews=imdb.review[8000:]\n",
        "print('test:','\\n',norm_test_reviews[8001])\n",
        "norm_test_tv_reviews=tv_fit.transform(norm_test_reviews)"
      ],
      "execution_count": null,
      "outputs": [
        {
          "output_type": "stream",
          "name": "stdout",
          "text": [
            "train: \n",
            " one review mention watch 1 oz episod youll hook right exact happen meth first thing struck oz brutal unflinch scene violenc set right word go trust show faint heart timid show pull punch regard drug sex violenc hardcor classic use wordit call oz nicknam given oswald maximum secur state penitentari focus main emerald citi experiment section prison cell glass front face inward privaci high agenda em citi home manyaryan muslim gangsta latino christian italian irish moreso scuffl death stare dodgi deal shadi agreement never far awayi would say main appeal show due fact goe show wouldnt dare forget pretti pictur paint mainstream audienc forget charm forget romanceoz doesnt mess around first episod ever saw struck nasti surreal couldnt say readi watch develop tast oz got accustom high level graphic violenc violenc injustic crook guard wholl sold nickel inmat wholl kill order get away well manner middl class inmat turn prison bitch due lack street skill prison experi watch oz may becom comfort uncomfort viewingthat get touch darker side\n",
            "test: \n",
            " go twin effect look pure hong kong movi experi disappoint say bad tradit hong kong action movi run similar vein shaolin soccer kung fu hustl resolut silli juvenil want good bit serious hong kong action look john woo yuen woo ping movi movi got lot flak silli thought first thing would explain your get disappoint lot puristsfor nonpurist forgiv tast though twin effect delight silli kungfu comedi like lot varieti reason least wonder femal lead spark thorough entertain comedi doubl act believ first movi type theyv hop kick fli like season prosth patent ridicul plot handl great deal care attent movi quit know written make lot movi laugh loud comedi realli promin thing subtl gentl comedi reliant word inanim object go fli la stephen chow said slapstick immens fun sequenc discodanc vampir total classicth action blend two genr realli fall period drama wireandsword fight come toward end comedi fight style jacki chan come blend though littl deriv time alway excit watch occasion throw genuin innov encountersal great movi tremend fun way despit stick point instanc twin effect mani way much westernis kungfu fan perhap use inevit comparison blade seri definit sound exampl though twin effect honest much better blade ever manag especi fight action person also bit shame see excel anthoni wong hissabl villain john woo classic hard boil underus younger audienc aim unlik notic inde know hard boil movi realli person gripeif watch open mind youll probabl enjoy great like must firm awar comedi ball wall kungfu movi keep mind youll fine\n"
          ]
        }
      ]
    },
    {
      "cell_type": "code",
      "metadata": {
        "colab": {
          "base_uri": "https://localhost:8080/"
        },
        "id": "lIi8Fb7Yr9pW",
        "outputId": "eb502354-e13d-49c9-9b92-107c6e923d42"
      },
      "source": [
        "norm_train_tv_reviews.shape"
      ],
      "execution_count": null,
      "outputs": [
        {
          "output_type": "execute_result",
          "data": {
            "text/plain": [
              "(8000, 62623)"
            ]
          },
          "metadata": {},
          "execution_count": 30
        }
      ]
    },
    {
      "cell_type": "code",
      "metadata": {
        "colab": {
          "base_uri": "https://localhost:8080/"
        },
        "id": "-cJjC1zJsIoT",
        "outputId": "c082e1d4-29b0-429c-e5f6-afe008f9a77c"
      },
      "source": [
        "norm_train_tv_reviews.toarray()"
      ],
      "execution_count": null,
      "outputs": [
        {
          "output_type": "execute_result",
          "data": {
            "text/plain": [
              "array([[0., 0., 0., ..., 0., 0., 0.],\n",
              "       [0., 0., 0., ..., 0., 0., 0.],\n",
              "       [0., 0., 0., ..., 0., 0., 0.],\n",
              "       ...,\n",
              "       [0., 0., 0., ..., 0., 0., 0.],\n",
              "       [0., 0., 0., ..., 0., 0., 0.],\n",
              "       [0., 0., 0., ..., 0., 0., 0.]])"
            ]
          },
          "metadata": {},
          "execution_count": 31
        }
      ]
    },
    {
      "cell_type": "markdown",
      "metadata": {
        "id": "KLQTESgCuxro"
      },
      "source": [
        "### Splitting the output variable (sentiments) into test and train"
      ]
    },
    {
      "cell_type": "code",
      "metadata": {
        "id": "APOXDOx3qQbN"
      },
      "source": [
        "#Splitting the sentiment data\n",
        "train_sentiments=sentiment_data[:8000]\n",
        "test_sentiments=sentiment_data[8000:]"
      ],
      "execution_count": null,
      "outputs": []
    },
    {
      "cell_type": "markdown",
      "metadata": {
        "id": "hIAm785Mq8Ec"
      },
      "source": [
        "### Model building using TF-IDF model- Logistic Regression"
      ]
    },
    {
      "cell_type": "code",
      "metadata": {
        "scrolled": true,
        "id": "xRu6uGlc3e4l",
        "colab": {
          "base_uri": "https://localhost:8080/"
        },
        "outputId": "c152fffe-bc99-4de1-e6a3-883a489efce1"
      },
      "source": [
        "from sklearn.linear_model import LogisticRegression,SGDClassifier\n",
        "\n",
        "#Training the model\n",
        "lr=LogisticRegression(penalty='l2',max_iter=500,C=1,random_state=42)\n",
        "\n",
        "#Fitting the model for tf-idf features\n",
        "lr_tfidf=lr.fit(norm_train_tv_reviews,train_sentiments)\n",
        "print(lr_tfidf)"
      ],
      "execution_count": null,
      "outputs": [
        {
          "output_type": "stream",
          "name": "stdout",
          "text": [
            "LogisticRegression(C=1, max_iter=500, random_state=42)\n"
          ]
        }
      ]
    },
    {
      "cell_type": "markdown",
      "metadata": {
        "id": "EYMGf6mxu8N7"
      },
      "source": [
        "### Predictions"
      ]
    },
    {
      "cell_type": "code",
      "metadata": {
        "id": "BoZ0cltyrOJ8",
        "colab": {
          "base_uri": "https://localhost:8080/"
        },
        "outputId": "dbf7c891-7647-4f36-9b5a-f66c3e27774b"
      },
      "source": [
        "#Predicting the model for tf-idf features\n",
        "lr_tfidf_predict=lr.predict(norm_test_tv_reviews)\n",
        "print(lr_tfidf_predict)"
      ],
      "execution_count": null,
      "outputs": [
        {
          "output_type": "stream",
          "name": "stdout",
          "text": [
            "[1 1 1 ... 0 0 1]\n"
          ]
        }
      ]
    },
    {
      "cell_type": "markdown",
      "metadata": {
        "id": "wVVIe4rCrWBW"
      },
      "source": [
        "### Model Comparison"
      ]
    },
    {
      "cell_type": "code",
      "metadata": {
        "id": "qTZHpft2rSX3",
        "colab": {
          "base_uri": "https://localhost:8080/"
        },
        "outputId": "3a487e79-2b3e-4260-c0d9-8ce0e75143cf"
      },
      "source": [
        "from sklearn.metrics import classification_report,confusion_matrix,accuracy_score\n",
        "\n",
        "#Accuracy score for bag of words\n",
        "lr_bow_score=accuracy_score(test_sentiments,lr_bow_predict)\n",
        "print(\"lr_bow_score :\",lr_bow_score)\n",
        "\n",
        "#Accuracy score for tfidf features\n",
        "lr_tfidf_score=accuracy_score(test_sentiments,lr_tfidf_predict)\n",
        "print(\"lr_tfidf_score :\",lr_tfidf_score)"
      ],
      "execution_count": null,
      "outputs": [
        {
          "output_type": "stream",
          "name": "stdout",
          "text": [
            "lr_bow_score : 0.8645\n",
            "lr_tfidf_score : 0.8675\n"
          ]
        }
      ]
    },
    {
      "cell_type": "markdown",
      "metadata": {
        "id": "s8xMZZs63e4n"
      },
      "source": [
        "### Print the Classification Report"
      ]
    },
    {
      "cell_type": "code",
      "metadata": {
        "id": "r-vbU0Vn3e4n",
        "colab": {
          "base_uri": "https://localhost:8080/"
        },
        "outputId": "285c8951-1fff-4e7a-b7eb-f017a5ad9965"
      },
      "source": [
        "#Classification report for bag of words\n",
        "lr_bow_report=classification_report(test_sentiments,lr_bow_predict,target_names=['Positive','Negative'])\n",
        "print(lr_bow_report)\n",
        "\n",
        "#Classification report for tfidf features\n",
        "lr_tfidf_report=classification_report(test_sentiments,lr_tfidf_predict,target_names=['Positive','Negative'])\n",
        "print(lr_tfidf_report)"
      ],
      "execution_count": null,
      "outputs": [
        {
          "output_type": "stream",
          "name": "stdout",
          "text": [
            "              precision    recall  f1-score   support\n",
            "\n",
            "    Positive       0.87      0.85      0.86       975\n",
            "    Negative       0.86      0.88      0.87      1025\n",
            "\n",
            "    accuracy                           0.86      2000\n",
            "   macro avg       0.86      0.86      0.86      2000\n",
            "weighted avg       0.86      0.86      0.86      2000\n",
            "\n",
            "              precision    recall  f1-score   support\n",
            "\n",
            "    Positive       0.89      0.83      0.86       975\n",
            "    Negative       0.85      0.90      0.87      1025\n",
            "\n",
            "    accuracy                           0.87      2000\n",
            "   macro avg       0.87      0.87      0.87      2000\n",
            "weighted avg       0.87      0.87      0.87      2000\n",
            "\n"
          ]
        }
      ]
    },
    {
      "cell_type": "code",
      "metadata": {
        "id": "_A9j5hhP3e4n",
        "colab": {
          "base_uri": "https://localhost:8080/"
        },
        "outputId": "2370c73c-15d4-44e4-a640-b0a0251c1643"
      },
      "source": [
        "#Confusion matrix for bag of words\n",
        "cm_bow=confusion_matrix(test_sentiments,lr_bow_predict,labels=[1,0])\n",
        "print(cm_bow)\n",
        "\n",
        "#Confusion matrix for tfidf features\n",
        "cm_tfidf=confusion_matrix(test_sentiments,lr_tfidf_predict,labels=[1,0])\n",
        "print(cm_tfidf)"
      ],
      "execution_count": null,
      "outputs": [
        {
          "output_type": "stream",
          "name": "stdout",
          "text": [
            "[[901 124]\n",
            " [147 828]]\n",
            "[[922 103]\n",
            " [162 813]]\n"
          ]
        }
      ]
    },
    {
      "cell_type": "markdown",
      "metadata": {
        "id": "JiDnn_z3722B"
      },
      "source": [
        "## Introducing TextBlob library and predicting sentiment using TextBlob"
      ]
    },
    {
      "cell_type": "markdown",
      "metadata": {
        "id": "axPDk5mGKq_5"
      },
      "source": [
        "If you are using Jupyter Notebook, make sure to install textblob in your system.\n",
        "To do so, open the command prompt and type 'python -m pip install textblob'."
      ]
    },
    {
      "cell_type": "code",
      "metadata": {
        "id": "xzhAPx1U3e4n"
      },
      "source": [
        "from textblob import TextBlob\n",
        "\n",
        " #Create a function to get the polarity\n",
        "def getPolarity(text):\n",
        "    return TextBlob(text).sentiment.polarity\n",
        "\n",
        "def getAnalysis(score):\n",
        "    if score < 0:\n",
        "        return \"negative\"\n",
        "    else:\n",
        "        return \"positive\"\n",
        "\n",
        "imdb[\"textblob\"] = imdb[\"review\"].apply(getPolarity)\n",
        "imdb[\"textblob_flag\"] = imdb[\"textblob\"].apply(getAnalysis)"
      ],
      "execution_count": null,
      "outputs": []
    },
    {
      "cell_type": "code",
      "metadata": {
        "id": "Q4v5Po6R3e4o",
        "colab": {
          "base_uri": "https://localhost:8080/",
          "height": 363
        },
        "outputId": "99ce72d3-5c76-46ef-8492-f4c5e9feb943"
      },
      "source": [
        "imdb.head(10)"
      ],
      "execution_count": null,
      "outputs": [
        {
          "output_type": "execute_result",
          "data": {
            "text/plain": [
              "                                              review sentiment  textblob  \\\n",
              "0  one review mention watch 1 oz episod youll hoo...  positive  0.025782   \n",
              "1  wonder littl product film techniqu unassum old...  positive  0.215476   \n",
              "2  thought wonder way spend time hot summer weeke...  positive  0.347143   \n",
              "3  basic there famili littl boy jake think there ...  negative -0.007143   \n",
              "4  petter mattei love time money visual stun film...  positive  0.193974   \n",
              "5  probabl alltim favorit movi stori selfless sac...  positive  0.025000   \n",
              "6  sure would like see resurrect date seahunt ser...  positive  0.178283   \n",
              "7  show amaz fresh innov idea 70s first air first...  negative  0.128472   \n",
              "8  encourag posit comment film look forward watch...  negative -0.096296   \n",
              "9  like origin gut wrench laughter like movi youn...  positive  0.233333   \n",
              "\n",
              "  textblob_flag  \n",
              "0      positive  \n",
              "1      positive  \n",
              "2      positive  \n",
              "3      negative  \n",
              "4      positive  \n",
              "5      positive  \n",
              "6      positive  \n",
              "7      positive  \n",
              "8      negative  \n",
              "9      positive  "
            ],
            "text/html": [
              "\n",
              "  <div id=\"df-d20b9521-7e7a-4b24-b865-8e672ed010a5\">\n",
              "    <div class=\"colab-df-container\">\n",
              "      <div>\n",
              "<style scoped>\n",
              "    .dataframe tbody tr th:only-of-type {\n",
              "        vertical-align: middle;\n",
              "    }\n",
              "\n",
              "    .dataframe tbody tr th {\n",
              "        vertical-align: top;\n",
              "    }\n",
              "\n",
              "    .dataframe thead th {\n",
              "        text-align: right;\n",
              "    }\n",
              "</style>\n",
              "<table border=\"1\" class=\"dataframe\">\n",
              "  <thead>\n",
              "    <tr style=\"text-align: right;\">\n",
              "      <th></th>\n",
              "      <th>review</th>\n",
              "      <th>sentiment</th>\n",
              "      <th>textblob</th>\n",
              "      <th>textblob_flag</th>\n",
              "    </tr>\n",
              "  </thead>\n",
              "  <tbody>\n",
              "    <tr>\n",
              "      <th>0</th>\n",
              "      <td>one review mention watch 1 oz episod youll hoo...</td>\n",
              "      <td>positive</td>\n",
              "      <td>0.025782</td>\n",
              "      <td>positive</td>\n",
              "    </tr>\n",
              "    <tr>\n",
              "      <th>1</th>\n",
              "      <td>wonder littl product film techniqu unassum old...</td>\n",
              "      <td>positive</td>\n",
              "      <td>0.215476</td>\n",
              "      <td>positive</td>\n",
              "    </tr>\n",
              "    <tr>\n",
              "      <th>2</th>\n",
              "      <td>thought wonder way spend time hot summer weeke...</td>\n",
              "      <td>positive</td>\n",
              "      <td>0.347143</td>\n",
              "      <td>positive</td>\n",
              "    </tr>\n",
              "    <tr>\n",
              "      <th>3</th>\n",
              "      <td>basic there famili littl boy jake think there ...</td>\n",
              "      <td>negative</td>\n",
              "      <td>-0.007143</td>\n",
              "      <td>negative</td>\n",
              "    </tr>\n",
              "    <tr>\n",
              "      <th>4</th>\n",
              "      <td>petter mattei love time money visual stun film...</td>\n",
              "      <td>positive</td>\n",
              "      <td>0.193974</td>\n",
              "      <td>positive</td>\n",
              "    </tr>\n",
              "    <tr>\n",
              "      <th>5</th>\n",
              "      <td>probabl alltim favorit movi stori selfless sac...</td>\n",
              "      <td>positive</td>\n",
              "      <td>0.025000</td>\n",
              "      <td>positive</td>\n",
              "    </tr>\n",
              "    <tr>\n",
              "      <th>6</th>\n",
              "      <td>sure would like see resurrect date seahunt ser...</td>\n",
              "      <td>positive</td>\n",
              "      <td>0.178283</td>\n",
              "      <td>positive</td>\n",
              "    </tr>\n",
              "    <tr>\n",
              "      <th>7</th>\n",
              "      <td>show amaz fresh innov idea 70s first air first...</td>\n",
              "      <td>negative</td>\n",
              "      <td>0.128472</td>\n",
              "      <td>positive</td>\n",
              "    </tr>\n",
              "    <tr>\n",
              "      <th>8</th>\n",
              "      <td>encourag posit comment film look forward watch...</td>\n",
              "      <td>negative</td>\n",
              "      <td>-0.096296</td>\n",
              "      <td>negative</td>\n",
              "    </tr>\n",
              "    <tr>\n",
              "      <th>9</th>\n",
              "      <td>like origin gut wrench laughter like movi youn...</td>\n",
              "      <td>positive</td>\n",
              "      <td>0.233333</td>\n",
              "      <td>positive</td>\n",
              "    </tr>\n",
              "  </tbody>\n",
              "</table>\n",
              "</div>\n",
              "      <button class=\"colab-df-convert\" onclick=\"convertToInteractive('df-d20b9521-7e7a-4b24-b865-8e672ed010a5')\"\n",
              "              title=\"Convert this dataframe to an interactive table.\"\n",
              "              style=\"display:none;\">\n",
              "        \n",
              "  <svg xmlns=\"http://www.w3.org/2000/svg\" height=\"24px\"viewBox=\"0 0 24 24\"\n",
              "       width=\"24px\">\n",
              "    <path d=\"M0 0h24v24H0V0z\" fill=\"none\"/>\n",
              "    <path d=\"M18.56 5.44l.94 2.06.94-2.06 2.06-.94-2.06-.94-.94-2.06-.94 2.06-2.06.94zm-11 1L8.5 8.5l.94-2.06 2.06-.94-2.06-.94L8.5 2.5l-.94 2.06-2.06.94zm10 10l.94 2.06.94-2.06 2.06-.94-2.06-.94-.94-2.06-.94 2.06-2.06.94z\"/><path d=\"M17.41 7.96l-1.37-1.37c-.4-.4-.92-.59-1.43-.59-.52 0-1.04.2-1.43.59L10.3 9.45l-7.72 7.72c-.78.78-.78 2.05 0 2.83L4 21.41c.39.39.9.59 1.41.59.51 0 1.02-.2 1.41-.59l7.78-7.78 2.81-2.81c.8-.78.8-2.07 0-2.86zM5.41 20L4 18.59l7.72-7.72 1.47 1.35L5.41 20z\"/>\n",
              "  </svg>\n",
              "      </button>\n",
              "      \n",
              "  <style>\n",
              "    .colab-df-container {\n",
              "      display:flex;\n",
              "      flex-wrap:wrap;\n",
              "      gap: 12px;\n",
              "    }\n",
              "\n",
              "    .colab-df-convert {\n",
              "      background-color: #E8F0FE;\n",
              "      border: none;\n",
              "      border-radius: 50%;\n",
              "      cursor: pointer;\n",
              "      display: none;\n",
              "      fill: #1967D2;\n",
              "      height: 32px;\n",
              "      padding: 0 0 0 0;\n",
              "      width: 32px;\n",
              "    }\n",
              "\n",
              "    .colab-df-convert:hover {\n",
              "      background-color: #E2EBFA;\n",
              "      box-shadow: 0px 1px 2px rgba(60, 64, 67, 0.3), 0px 1px 3px 1px rgba(60, 64, 67, 0.15);\n",
              "      fill: #174EA6;\n",
              "    }\n",
              "\n",
              "    [theme=dark] .colab-df-convert {\n",
              "      background-color: #3B4455;\n",
              "      fill: #D2E3FC;\n",
              "    }\n",
              "\n",
              "    [theme=dark] .colab-df-convert:hover {\n",
              "      background-color: #434B5C;\n",
              "      box-shadow: 0px 1px 3px 1px rgba(0, 0, 0, 0.15);\n",
              "      filter: drop-shadow(0px 1px 2px rgba(0, 0, 0, 0.3));\n",
              "      fill: #FFFFFF;\n",
              "    }\n",
              "  </style>\n",
              "\n",
              "      <script>\n",
              "        const buttonEl =\n",
              "          document.querySelector('#df-d20b9521-7e7a-4b24-b865-8e672ed010a5 button.colab-df-convert');\n",
              "        buttonEl.style.display =\n",
              "          google.colab.kernel.accessAllowed ? 'block' : 'none';\n",
              "\n",
              "        async function convertToInteractive(key) {\n",
              "          const element = document.querySelector('#df-d20b9521-7e7a-4b24-b865-8e672ed010a5');\n",
              "          const dataTable =\n",
              "            await google.colab.kernel.invokeFunction('convertToInteractive',\n",
              "                                                     [key], {});\n",
              "          if (!dataTable) return;\n",
              "\n",
              "          const docLinkHtml = 'Like what you see? Visit the ' +\n",
              "            '<a target=\"_blank\" href=https://colab.research.google.com/notebooks/data_table.ipynb>data table notebook</a>'\n",
              "            + ' to learn more about interactive tables.';\n",
              "          element.innerHTML = '';\n",
              "          dataTable['output_type'] = 'display_data';\n",
              "          await google.colab.output.renderOutput(dataTable, element);\n",
              "          const docLink = document.createElement('div');\n",
              "          docLink.innerHTML = docLinkHtml;\n",
              "          element.appendChild(docLink);\n",
              "        }\n",
              "      </script>\n",
              "    </div>\n",
              "  </div>\n",
              "  "
            ]
          },
          "metadata": {},
          "execution_count": 39
        }
      ]
    },
    {
      "cell_type": "code",
      "metadata": {
        "id": "Gx1oOHfUxSKy"
      },
      "source": [
        "imdb[\"textblob_flag\"] = lb.fit_transform(imdb[\"textblob_flag\"])"
      ],
      "execution_count": null,
      "outputs": []
    },
    {
      "cell_type": "code",
      "metadata": {
        "id": "Z6uKaH0A3e4o",
        "colab": {
          "base_uri": "https://localhost:8080/"
        },
        "outputId": "603051b4-a250-4545-e499-70869e101643"
      },
      "source": [
        "#Classification report predictions from TextBlob\n",
        "textblob_report=classification_report(test_sentiments,imdb[\"textblob_flag\"][8000:],target_names=['Positive','Negative'])\n",
        "print(textblob_report)"
      ],
      "execution_count": null,
      "outputs": [
        {
          "output_type": "stream",
          "name": "stdout",
          "text": [
            "              precision    recall  f1-score   support\n",
            "\n",
            "    Positive       0.79      0.39      0.52       975\n",
            "    Negative       0.61      0.90      0.73      1025\n",
            "\n",
            "    accuracy                           0.65      2000\n",
            "   macro avg       0.70      0.65      0.62      2000\n",
            "weighted avg       0.70      0.65      0.63      2000\n",
            "\n"
          ]
        }
      ]
    },
    {
      "cell_type": "code",
      "metadata": {
        "colab": {
          "base_uri": "https://localhost:8080/"
        },
        "id": "G7AkFBy1wuMi",
        "outputId": "d5da4107-c9eb-49d3-faa6-31ed6d4ab613"
      },
      "source": [
        "#Classification report for tfidf features\n",
        "lr_tfidf_report=classification_report(test_sentiments,lr_tfidf_predict,target_names=['Positive','Negative'])\n",
        "print(lr_tfidf_report)"
      ],
      "execution_count": null,
      "outputs": [
        {
          "output_type": "stream",
          "name": "stdout",
          "text": [
            "              precision    recall  f1-score   support\n",
            "\n",
            "    Positive       0.89      0.83      0.86       975\n",
            "    Negative       0.85      0.90      0.87      1025\n",
            "\n",
            "    accuracy                           0.87      2000\n",
            "   macro avg       0.87      0.87      0.87      2000\n",
            "weighted avg       0.87      0.87      0.87      2000\n",
            "\n"
          ]
        }
      ]
    },
    {
      "cell_type": "markdown",
      "metadata": {
        "id": "sM3GJ-on3e4o"
      },
      "source": [
        "### Word cloud for positive review words"
      ]
    },
    {
      "cell_type": "markdown",
      "metadata": {
        "id": "cjptqQtdK1FU"
      },
      "source": [
        "If you are using Jupyter Notebook, make sure to install wordcloud in your system.\n",
        "To do so, open the command prompt and type 'python -m pip install wordcloud'."
      ]
    },
    {
      "cell_type": "code",
      "metadata": {
        "id": "8k9tD1Xh3e4p",
        "colab": {
          "base_uri": "https://localhost:8080/",
          "height": 348
        },
        "outputId": "dfbef779-5236-4ea9-ca3e-2eccb760b632"
      },
      "source": [
        "from wordcloud import WordCloud,STOPWORDS\n",
        "\n",
        "#Word cloud for positive review words\n",
        "plt.figure(figsize=(10,10))\n",
        "positive_text=norm_train_reviews[1]\n",
        "WC=WordCloud(width=1000,height=500,max_words=500,min_font_size=5)\n",
        "positive_words=WC.generate(positive_text)\n",
        "plt.imshow(positive_words,interpolation='bilinear')\n",
        "plt.show"
      ],
      "execution_count": null,
      "outputs": [
        {
          "output_type": "execute_result",
          "data": {
            "text/plain": [
              "<function matplotlib.pyplot.show(*args, **kw)>"
            ]
          },
          "metadata": {},
          "execution_count": 43
        },
        {
          "output_type": "display_data",
          "data": {
            "text/plain": [
              "<Figure size 720x720 with 1 Axes>"
            ],
            "image/png": "[encoded data removed]"
          },
          "metadata": {
            "needs_background": "light"
          }
        }
      ]
    }
  ]
}